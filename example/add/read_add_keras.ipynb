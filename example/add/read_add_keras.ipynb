{
 "cells": [
  {
   "cell_type": "code",
   "execution_count": 23,
   "metadata": {},
   "outputs": [],
   "source": [
    "from keras.models import load_model\n",
    "import keras\n",
    "import tensorflow as tf\n",
    "import numpy as np\n"
   ]
  },
  {
   "cell_type": "code",
   "execution_count": 24,
   "metadata": {},
   "outputs": [],
   "source": [
    "%run ../../layers/dimension_utils"
   ]
  },
  {
   "cell_type": "code",
   "execution_count": 25,
   "metadata": {},
   "outputs": [],
   "source": [
    "def np2tf(x):\n",
    "    if isinstance(x, np.ndarray):\n",
    "        x = tf.convert_to_tensor(x, dtype=tf.float32)\n",
    "        return x, False\n",
    "    return x, True\n",
    "\n",
    "\n",
    "def match_tensor(x1:tf.Tensor or np.ndarray, x2:tf.Tensor or np.ndarray):\n",
    "    \n",
    "    x1, f1 = np2tf(x1)\n",
    "    x2, f2 = np2tf(x2)\n",
    "\n",
    "    # no need to transpose if all var are tensor, we assume tensor are computed by gragh.\n",
    "    if f1 and f2:\n",
    "        return x1, x2\n",
    "    \n",
    "    # ensure tensor is set to x1, weights set to x2\n",
    "    if f2:\n",
    "        x1, x2 = x2, x1\n",
    "\n",
    "    if x1.shape.ndims != x2.shape.ndims:\n",
    "        while x2.shape.ndims < x1.shape.ndims:\n",
    "            x2 = tf.expand_dims(x2, axis=0)\n",
    "    \n",
    "    new_shape = shape_NCD_to_NDC_format([i for i in range(len(x2.shape))])\n",
    "    x2 = tf.transpose(x2, new_shape)\n",
    "    return (x2, x1) if f2 else (x1, x2)"
   ]
  },
  {
   "cell_type": "code",
   "execution_count": 40,
   "metadata": {},
   "outputs": [
    {
     "name": "stdout",
     "output_type": "stream",
     "text": [
      "type grap:  <class 'dict'>\n",
      "type weight:  <class 'dict'>\n",
      "type inputs:  <class 'list'>\n",
      "type first:  <class 'keras.src.utils.tracking.TrackedDict'>\n",
      "second:  {'class_name': '__keras_tensor__', 'config': {'shape': [1, 3, 1], 'dtype': 'float32', 'keras_history': ['input_layer_1', 0, 0]}}\n"
     ]
    },
    {
     "ename": "TypeError",
     "evalue": "<class 'keras.src.models.functional.Functional'> could not be deserialized properly. Please ensure that components that are Python object instances (layers, models, etc.) returned by `get_config()` are explicitly deserialized in the model's `from_config()` method.\n\nconfig={'module': 'keras.src.models.functional', 'class_name': 'Functional', 'config': {'name': 'functional_1', 'trainable': False, 'layers': [{'module': 'keras.layers', 'class_name': 'InputLayer', 'config': {'batch_shape': [1, 3, 1], 'dtype': 'float32', 'sparse': False, 'name': 'input_layer'}, 'registered_name': None, 'name': 'input_layer', 'inbound_nodes': []}, {'module': 'layers.mathematics_layers', 'class_name': 'TFLog', 'config': {'name': 'tf_log', 'index': 0, 'trainable': False, 'dtype': 'float32'}, 'registered_name': 'TFLog', 'build_config': {'input_shape': [1, 3, 1]}, 'name': 'tf_log', 'inbound_nodes': [{'args': [{'class_name': '__keras_tensor__', 'config': {'shape': [1, 3, 1], 'dtype': 'float32', 'keras_history': ['input_layer', 0, 0]}}], 'kwargs': {}}]}, {'module': 'keras.layers', 'class_name': 'InputLayer', 'config': {'batch_shape': [1, 3, 1], 'dtype': 'float32', 'sparse': False, 'name': 'input_layer_1'}, 'registered_name': None, 'name': 'input_layer_1', 'inbound_nodes': []}, {'module': 'layers.mathematics_layers', 'class_name': 'TFAdd', 'config': {'name': 'tf_add', 'trainable': False, 'dtype': 'float32', 'tensor_grap': {'input': {'class_name': '__keras_tensor__', 'config': {'shape': [1, 3, 1], 'dtype': 'float32', 'keras_history': ['input_layer', 0, 0]}}, 'onnx::Add_1': {'class_name': '__keras_tensor__', 'config': {'shape': [1, 3, 1], 'dtype': 'float32', 'keras_history': ['input_layer_1', 0, 0]}}, '/Log_output_0': {'class_name': '__keras_tensor__', 'config': {'shape': [1, 3, 1], 'dtype': 'float32', 'keras_history': ['tf_log', 0, 0]}}}, 'node_weights': {}, 'node_inputs': ['/Log_output_0', 'onnx::Add_1']}, 'registered_name': 'TFAdd', 'build_config': {'input_shape': None}, 'name': 'tf_add', 'inbound_nodes': [{'args': [{'class_name': '__keras_tensor__', 'config': {'shape': [1, 3, 1], 'dtype': 'float32', 'keras_history': ['tf_log', 0, 0]}}], 'kwargs': {}}]}], 'input_layers': [['input_layer', 0, 0], ['input_layer_1', 0, 0]], 'output_layers': [['tf_add', 0, 0]]}, 'registered_name': 'Functional', 'build_config': {'input_shape': None}}.\n\nException encountered: <class '__main__.TFAdd'> could not be deserialized properly. Please ensure that components that are Python object instances (layers, models, etc.) returned by `get_config()` are explicitly deserialized in the model's `from_config()` method.\n\nconfig={'module': 'layers.mathematics_layers', 'class_name': 'TFAdd', 'config': {'name': 'tf_add', 'trainable': False, 'dtype': 'float32', 'tensor_grap': {'input': {'class_name': '__keras_tensor__', 'config': {'shape': [1, 3, 1], 'dtype': 'float32', 'keras_history': ['input_layer', 0, 0]}}, 'onnx::Add_1': {'class_name': '__keras_tensor__', 'config': {'shape': [1, 3, 1], 'dtype': 'float32', 'keras_history': ['input_layer_1', 0, 0]}}, '/Log_output_0': {'class_name': '__keras_tensor__', 'config': {'shape': [1, 3, 1], 'dtype': 'float32', 'keras_history': ['tf_log', 0, 0]}}}, 'node_weights': {}, 'node_inputs': ['/Log_output_0', 'onnx::Add_1']}, 'registered_name': 'TFAdd', 'build_config': {'input_shape': None}, 'name': 'tf_add', 'inbound_nodes': [{'args': [{'class_name': '__keras_tensor__', 'config': {'shape': [1, 3, 1], 'dtype': 'float32', 'keras_history': ['tf_log', 0, 0]}}], 'kwargs': {}}]}.\n\nException encountered: Error when deserializing class 'TFAdd' using config={'name': 'tf_add', 'trainable': False, 'dtype': 'float32', 'tensor_grap': {'input': {'class_name': '__keras_tensor__', 'config': {'shape': [1, 3, 1], 'dtype': 'float32', 'keras_history': ['input_layer', 0, 0]}}, 'onnx::Add_1': {'class_name': '__keras_tensor__', 'config': {'shape': [1, 3, 1], 'dtype': 'float32', 'keras_history': ['input_layer_1', 0, 0]}}, '/Log_output_0': {'class_name': '__keras_tensor__', 'config': {'shape': [1, 3, 1], 'dtype': 'float32', 'keras_history': ['tf_log', 0, 0]}}}, 'node_weights': {}, 'node_inputs': ['/Log_output_0', 'onnx::Add_1']}.\n\nException encountered: Can't convert Python sequence with mixed types to Tensor.",
     "output_type": "error",
     "traceback": [
      "\u001b[0;31m---------------------------------------------------------------------------\u001b[0m",
      "\u001b[0;31mValueError\u001b[0m                                Traceback (most recent call last)",
      "File \u001b[0;32m/Library/Frameworks/Python.framework/Versions/3.10/lib/python3.10/site-packages/keras/src/ops/operation.py:208\u001b[0m, in \u001b[0;36mOperation.from_config\u001b[0;34m(cls, config)\u001b[0m\n\u001b[1;32m    207\u001b[0m \u001b[39mtry\u001b[39;00m:\n\u001b[0;32m--> 208\u001b[0m     \u001b[39mreturn\u001b[39;00m \u001b[39mcls\u001b[39;49m(\u001b[39m*\u001b[39;49m\u001b[39m*\u001b[39;49mconfig)\n\u001b[1;32m    209\u001b[0m \u001b[39mexcept\u001b[39;00m \u001b[39mException\u001b[39;00m \u001b[39mas\u001b[39;00m e:\n",
      "Cell \u001b[0;32mIn[40], line 18\u001b[0m, in \u001b[0;36mTFAdd.__init__\u001b[0;34m(self, tensor_grap, node_weights, node_inputs, *args, **kwargs)\u001b[0m\n\u001b[1;32m     17\u001b[0m \u001b[39mprint\u001b[39m(\u001b[39m'\u001b[39m\u001b[39msecond: \u001b[39m\u001b[39m'\u001b[39m, \u001b[39mself\u001b[39m\u001b[39m.\u001b[39msecond_operand)\n\u001b[0;32m---> 18\u001b[0m \u001b[39mprint\u001b[39m(\u001b[39m'\u001b[39m\u001b[39masfas: \u001b[39m\u001b[39m'\u001b[39m, tf\u001b[39m.\u001b[39;49mkeras\u001b[39m.\u001b[39;49mbackend\u001b[39m.\u001b[39;49mvariable(\u001b[39mself\u001b[39;49m\u001b[39m.\u001b[39;49msecond_operand[\u001b[39m'\u001b[39;49m\u001b[39mconfig\u001b[39;49m\u001b[39m'\u001b[39;49m][\u001b[39m'\u001b[39;49m\u001b[39mkeras_history\u001b[39;49m\u001b[39m'\u001b[39;49m]))\n",
      "File \u001b[0;32m/Library/Frameworks/Python.framework/Versions/3.10/lib/python3.10/site-packages/keras/src/legacy/backend.py:2267\u001b[0m, in \u001b[0;36mvariable\u001b[0;34m(value, dtype, name, constraint)\u001b[0m\n\u001b[1;32m   2266\u001b[0m     \u001b[39mreturn\u001b[39;00m v\n\u001b[0;32m-> 2267\u001b[0m v \u001b[39m=\u001b[39m tf\u001b[39m.\u001b[39;49mVariable(\n\u001b[1;32m   2268\u001b[0m     value, dtype\u001b[39m=\u001b[39;49mtf\u001b[39m.\u001b[39;49mas_dtype(dtype), name\u001b[39m=\u001b[39;49mname, constraint\u001b[39m=\u001b[39;49mconstraint\n\u001b[1;32m   2269\u001b[0m )\n\u001b[1;32m   2270\u001b[0m \u001b[39mreturn\u001b[39;00m v\n",
      "File \u001b[0;32m/Library/Frameworks/Python.framework/Versions/3.10/lib/python3.10/site-packages/tensorflow/python/util/traceback_utils.py:153\u001b[0m, in \u001b[0;36mfilter_traceback.<locals>.error_handler\u001b[0;34m(*args, **kwargs)\u001b[0m\n\u001b[1;32m    152\u001b[0m   filtered_tb \u001b[39m=\u001b[39m _process_traceback_frames(e\u001b[39m.\u001b[39m__traceback__)\n\u001b[0;32m--> 153\u001b[0m   \u001b[39mraise\u001b[39;00m e\u001b[39m.\u001b[39mwith_traceback(filtered_tb) \u001b[39mfrom\u001b[39;00m \u001b[39mNone\u001b[39;00m\n\u001b[1;32m    154\u001b[0m \u001b[39mfinally\u001b[39;00m:\n",
      "File \u001b[0;32m/Library/Frameworks/Python.framework/Versions/3.10/lib/python3.10/site-packages/tensorflow/python/framework/constant_op.py:108\u001b[0m, in \u001b[0;36mconvert_to_eager_tensor\u001b[0;34m(value, ctx, dtype)\u001b[0m\n\u001b[1;32m    107\u001b[0m ctx\u001b[39m.\u001b[39mensure_initialized()\n\u001b[0;32m--> 108\u001b[0m \u001b[39mreturn\u001b[39;00m ops\u001b[39m.\u001b[39;49mEagerTensor(value, ctx\u001b[39m.\u001b[39;49mdevice_name, dtype)\n",
      "\u001b[0;31mValueError\u001b[0m: Can't convert Python sequence with mixed types to Tensor.",
      "\nDuring handling of the above exception, another exception occurred:\n",
      "\u001b[0;31mTypeError\u001b[0m                                 Traceback (most recent call last)",
      "File \u001b[0;32m/Library/Frameworks/Python.framework/Versions/3.10/lib/python3.10/site-packages/keras/src/saving/serialization_lib.py:711\u001b[0m, in \u001b[0;36mdeserialize_keras_object\u001b[0;34m(config, custom_objects, safe_mode, **kwargs)\u001b[0m\n\u001b[1;32m    710\u001b[0m \u001b[39mtry\u001b[39;00m:\n\u001b[0;32m--> 711\u001b[0m     instance \u001b[39m=\u001b[39m \u001b[39mcls\u001b[39;49m\u001b[39m.\u001b[39;49mfrom_config(inner_config)\n\u001b[1;32m    712\u001b[0m \u001b[39mexcept\u001b[39;00m \u001b[39mTypeError\u001b[39;00m \u001b[39mas\u001b[39;00m e:\n",
      "File \u001b[0;32m/Library/Frameworks/Python.framework/Versions/3.10/lib/python3.10/site-packages/keras/src/ops/operation.py:210\u001b[0m, in \u001b[0;36mOperation.from_config\u001b[0;34m(cls, config)\u001b[0m\n\u001b[1;32m    209\u001b[0m \u001b[39mexcept\u001b[39;00m \u001b[39mException\u001b[39;00m \u001b[39mas\u001b[39;00m e:\n\u001b[0;32m--> 210\u001b[0m     \u001b[39mraise\u001b[39;00m \u001b[39mTypeError\u001b[39;00m(\n\u001b[1;32m    211\u001b[0m         \u001b[39mf\u001b[39m\u001b[39m\"\u001b[39m\u001b[39mError when deserializing class \u001b[39m\u001b[39m'\u001b[39m\u001b[39m{\u001b[39;00m\u001b[39mcls\u001b[39m\u001b[39m.\u001b[39m\u001b[39m__name__\u001b[39m\u001b[39m}\u001b[39;00m\u001b[39m'\u001b[39m\u001b[39m using \u001b[39m\u001b[39m\"\u001b[39m\n\u001b[1;32m    212\u001b[0m         \u001b[39mf\u001b[39m\u001b[39m\"\u001b[39m\u001b[39mconfig=\u001b[39m\u001b[39m{\u001b[39;00mconfig\u001b[39m}\u001b[39;00m\u001b[39m.\u001b[39m\u001b[39m\\n\u001b[39;00m\u001b[39m\\n\u001b[39;00m\u001b[39mException encountered: \u001b[39m\u001b[39m{\u001b[39;00me\u001b[39m}\u001b[39;00m\u001b[39m\"\u001b[39m\n\u001b[1;32m    213\u001b[0m     )\n",
      "\u001b[0;31mTypeError\u001b[0m: Error when deserializing class 'TFAdd' using config={'name': 'tf_add', 'trainable': False, 'dtype': 'float32', 'tensor_grap': {'input': {'class_name': '__keras_tensor__', 'config': {'shape': [1, 3, 1], 'dtype': 'float32', 'keras_history': ['input_layer', 0, 0]}}, 'onnx::Add_1': {'class_name': '__keras_tensor__', 'config': {'shape': [1, 3, 1], 'dtype': 'float32', 'keras_history': ['input_layer_1', 0, 0]}}, '/Log_output_0': {'class_name': '__keras_tensor__', 'config': {'shape': [1, 3, 1], 'dtype': 'float32', 'keras_history': ['tf_log', 0, 0]}}}, 'node_weights': {}, 'node_inputs': ['/Log_output_0', 'onnx::Add_1']}.\n\nException encountered: Can't convert Python sequence with mixed types to Tensor.",
      "\nDuring handling of the above exception, another exception occurred:\n",
      "\u001b[0;31mTypeError\u001b[0m                                 Traceback (most recent call last)",
      "File \u001b[0;32m/Library/Frameworks/Python.framework/Versions/3.10/lib/python3.10/site-packages/keras/src/saving/serialization_lib.py:711\u001b[0m, in \u001b[0;36mdeserialize_keras_object\u001b[0;34m(config, custom_objects, safe_mode, **kwargs)\u001b[0m\n\u001b[1;32m    710\u001b[0m \u001b[39mtry\u001b[39;00m:\n\u001b[0;32m--> 711\u001b[0m     instance \u001b[39m=\u001b[39m \u001b[39mcls\u001b[39;49m\u001b[39m.\u001b[39;49mfrom_config(inner_config)\n\u001b[1;32m    712\u001b[0m \u001b[39mexcept\u001b[39;00m \u001b[39mTypeError\u001b[39;00m \u001b[39mas\u001b[39;00m e:\n",
      "File \u001b[0;32m/Library/Frameworks/Python.framework/Versions/3.10/lib/python3.10/site-packages/keras/src/models/model.py:528\u001b[0m, in \u001b[0;36mModel.from_config\u001b[0;34m(cls, config, custom_objects)\u001b[0m\n\u001b[1;32m    526\u001b[0m     \u001b[39mfrom\u001b[39;00m \u001b[39mkeras\u001b[39;00m\u001b[39m.\u001b[39;00m\u001b[39msrc\u001b[39;00m\u001b[39m.\u001b[39;00m\u001b[39mmodels\u001b[39;00m\u001b[39m.\u001b[39;00m\u001b[39mfunctional\u001b[39;00m \u001b[39mimport\u001b[39;00m functional_from_config\n\u001b[0;32m--> 528\u001b[0m     \u001b[39mreturn\u001b[39;00m functional_from_config(\n\u001b[1;32m    529\u001b[0m         \u001b[39mcls\u001b[39;49m, config, custom_objects\u001b[39m=\u001b[39;49mcustom_objects\n\u001b[1;32m    530\u001b[0m     )\n\u001b[1;32m    532\u001b[0m \u001b[39m# Either the model has a custom __init__, or the config\u001b[39;00m\n\u001b[1;32m    533\u001b[0m \u001b[39m# does not contain all the information necessary to\u001b[39;00m\n\u001b[1;32m    534\u001b[0m \u001b[39m# revive a Functional model. This happens when the user creates\u001b[39;00m\n\u001b[0;32m   (...)\u001b[0m\n\u001b[1;32m    537\u001b[0m \u001b[39m# In this case, we fall back to provide all config into the\u001b[39;00m\n\u001b[1;32m    538\u001b[0m \u001b[39m# constructor of the class.\u001b[39;00m\n",
      "File \u001b[0;32m/Library/Frameworks/Python.framework/Versions/3.10/lib/python3.10/site-packages/keras/src/models/functional.py:509\u001b[0m, in \u001b[0;36mfunctional_from_config\u001b[0;34m(cls, config, custom_objects)\u001b[0m\n\u001b[1;32m    508\u001b[0m \u001b[39mfor\u001b[39;00m layer_data \u001b[39min\u001b[39;00m config[\u001b[39m\"\u001b[39m\u001b[39mlayers\u001b[39m\u001b[39m\"\u001b[39m]:\n\u001b[0;32m--> 509\u001b[0m     process_layer(layer_data)\n\u001b[1;32m    511\u001b[0m \u001b[39m# Then we process nodes in order of layer depth.\u001b[39;00m\n\u001b[1;32m    512\u001b[0m \u001b[39m# Nodes that cannot yet be processed (if the inbound node\u001b[39;00m\n\u001b[1;32m    513\u001b[0m \u001b[39m# does not yet exist) are re-enqueued, and the process\u001b[39;00m\n\u001b[1;32m    514\u001b[0m \u001b[39m# is repeated until all nodes are processed.\u001b[39;00m\n",
      "File \u001b[0;32m/Library/Frameworks/Python.framework/Versions/3.10/lib/python3.10/site-packages/keras/src/models/functional.py:493\u001b[0m, in \u001b[0;36mfunctional_from_config.<locals>.process_layer\u001b[0;34m(layer_data)\u001b[0m\n\u001b[1;32m    492\u001b[0m \u001b[39melse\u001b[39;00m:\n\u001b[0;32m--> 493\u001b[0m     layer \u001b[39m=\u001b[39m serialization_lib\u001b[39m.\u001b[39;49mdeserialize_keras_object(\n\u001b[1;32m    494\u001b[0m         layer_data, custom_objects\u001b[39m=\u001b[39;49mcustom_objects\n\u001b[1;32m    495\u001b[0m     )\n\u001b[1;32m    496\u001b[0m created_layers[layer_name] \u001b[39m=\u001b[39m layer\n",
      "File \u001b[0;32m/Library/Frameworks/Python.framework/Versions/3.10/lib/python3.10/site-packages/keras/src/saving/serialization_lib.py:713\u001b[0m, in \u001b[0;36mdeserialize_keras_object\u001b[0;34m(config, custom_objects, safe_mode, **kwargs)\u001b[0m\n\u001b[1;32m    712\u001b[0m \u001b[39mexcept\u001b[39;00m \u001b[39mTypeError\u001b[39;00m \u001b[39mas\u001b[39;00m e:\n\u001b[0;32m--> 713\u001b[0m     \u001b[39mraise\u001b[39;00m \u001b[39mTypeError\u001b[39;00m(\n\u001b[1;32m    714\u001b[0m         \u001b[39mf\u001b[39m\u001b[39m\"\u001b[39m\u001b[39m{\u001b[39;00m\u001b[39mcls\u001b[39m\u001b[39m}\u001b[39;00m\u001b[39m could not be deserialized properly. Please\u001b[39m\u001b[39m\"\u001b[39m\n\u001b[1;32m    715\u001b[0m         \u001b[39m\"\u001b[39m\u001b[39m ensure that components that are Python object\u001b[39m\u001b[39m\"\u001b[39m\n\u001b[1;32m    716\u001b[0m         \u001b[39m\"\u001b[39m\u001b[39m instances (layers, models, etc.) returned by\u001b[39m\u001b[39m\"\u001b[39m\n\u001b[1;32m    717\u001b[0m         \u001b[39m\"\u001b[39m\u001b[39m `get_config()` are explicitly deserialized in the\u001b[39m\u001b[39m\"\u001b[39m\n\u001b[1;32m    718\u001b[0m         \u001b[39m\"\u001b[39m\u001b[39m model\u001b[39m\u001b[39m'\u001b[39m\u001b[39ms `from_config()` method.\u001b[39m\u001b[39m\"\u001b[39m\n\u001b[1;32m    719\u001b[0m         \u001b[39mf\u001b[39m\u001b[39m\"\u001b[39m\u001b[39m\\n\u001b[39;00m\u001b[39m\\n\u001b[39;00m\u001b[39mconfig=\u001b[39m\u001b[39m{\u001b[39;00mconfig\u001b[39m}\u001b[39;00m\u001b[39m.\u001b[39m\u001b[39m\\n\u001b[39;00m\u001b[39m\\n\u001b[39;00m\u001b[39mException encountered: \u001b[39m\u001b[39m{\u001b[39;00me\u001b[39m}\u001b[39;00m\u001b[39m\"\u001b[39m\n\u001b[1;32m    720\u001b[0m     )\n\u001b[1;32m    721\u001b[0m build_config \u001b[39m=\u001b[39m config\u001b[39m.\u001b[39mget(\u001b[39m\"\u001b[39m\u001b[39mbuild_config\u001b[39m\u001b[39m\"\u001b[39m, \u001b[39mNone\u001b[39;00m)\n",
      "\u001b[0;31mTypeError\u001b[0m: <class '__main__.TFAdd'> could not be deserialized properly. Please ensure that components that are Python object instances (layers, models, etc.) returned by `get_config()` are explicitly deserialized in the model's `from_config()` method.\n\nconfig={'module': 'layers.mathematics_layers', 'class_name': 'TFAdd', 'config': {'name': 'tf_add', 'trainable': False, 'dtype': 'float32', 'tensor_grap': {'input': {'class_name': '__keras_tensor__', 'config': {'shape': [1, 3, 1], 'dtype': 'float32', 'keras_history': ['input_layer', 0, 0]}}, 'onnx::Add_1': {'class_name': '__keras_tensor__', 'config': {'shape': [1, 3, 1], 'dtype': 'float32', 'keras_history': ['input_layer_1', 0, 0]}}, '/Log_output_0': {'class_name': '__keras_tensor__', 'config': {'shape': [1, 3, 1], 'dtype': 'float32', 'keras_history': ['tf_log', 0, 0]}}}, 'node_weights': {}, 'node_inputs': ['/Log_output_0', 'onnx::Add_1']}, 'registered_name': 'TFAdd', 'build_config': {'input_shape': None}, 'name': 'tf_add', 'inbound_nodes': [{'args': [{'class_name': '__keras_tensor__', 'config': {'shape': [1, 3, 1], 'dtype': 'float32', 'keras_history': ['tf_log', 0, 0]}}], 'kwargs': {}}]}.\n\nException encountered: Error when deserializing class 'TFAdd' using config={'name': 'tf_add', 'trainable': False, 'dtype': 'float32', 'tensor_grap': {'input': {'class_name': '__keras_tensor__', 'config': {'shape': [1, 3, 1], 'dtype': 'float32', 'keras_history': ['input_layer', 0, 0]}}, 'onnx::Add_1': {'class_name': '__keras_tensor__', 'config': {'shape': [1, 3, 1], 'dtype': 'float32', 'keras_history': ['input_layer_1', 0, 0]}}, '/Log_output_0': {'class_name': '__keras_tensor__', 'config': {'shape': [1, 3, 1], 'dtype': 'float32', 'keras_history': ['tf_log', 0, 0]}}}, 'node_weights': {}, 'node_inputs': ['/Log_output_0', 'onnx::Add_1']}.\n\nException encountered: Can't convert Python sequence with mixed types to Tensor.",
      "\nDuring handling of the above exception, another exception occurred:\n",
      "\u001b[0;31mTypeError\u001b[0m                                 Traceback (most recent call last)",
      "Cell \u001b[0;32mIn[40], line 46\u001b[0m\n\u001b[1;32m     44\u001b[0m custom_objects \u001b[39m=\u001b[39m {\u001b[39m\"\u001b[39m\u001b[39mTFAdd\u001b[39m\u001b[39m\"\u001b[39m: TFAdd, \u001b[39m\"\u001b[39m\u001b[39mTFLog\u001b[39m\u001b[39m\"\u001b[39m:TFLog}\n\u001b[1;32m     45\u001b[0m \u001b[39mwith\u001b[39;00m keras\u001b[39m.\u001b[39msaving\u001b[39m.\u001b[39mcustom_object_scope(custom_objects):\n\u001b[0;32m---> 46\u001b[0m     model \u001b[39m=\u001b[39m load_model(\u001b[39m\"\u001b[39;49m\u001b[39madd.keras\u001b[39;49m\u001b[39m\"\u001b[39;49m)\n\u001b[1;32m     47\u001b[0m     model\u001b[39m.\u001b[39msummary()\n",
      "File \u001b[0;32m/Library/Frameworks/Python.framework/Versions/3.10/lib/python3.10/site-packages/keras/src/saving/saving_api.py:176\u001b[0m, in \u001b[0;36mload_model\u001b[0;34m(filepath, custom_objects, compile, safe_mode)\u001b[0m\n\u001b[1;32m    173\u001b[0m         is_keras_zip \u001b[39m=\u001b[39m \u001b[39mTrue\u001b[39;00m\n\u001b[1;32m    175\u001b[0m \u001b[39mif\u001b[39;00m is_keras_zip:\n\u001b[0;32m--> 176\u001b[0m     \u001b[39mreturn\u001b[39;00m saving_lib\u001b[39m.\u001b[39;49mload_model(\n\u001b[1;32m    177\u001b[0m         filepath,\n\u001b[1;32m    178\u001b[0m         custom_objects\u001b[39m=\u001b[39;49mcustom_objects,\n\u001b[1;32m    179\u001b[0m         \u001b[39mcompile\u001b[39;49m\u001b[39m=\u001b[39;49m\u001b[39mcompile\u001b[39;49m,\n\u001b[1;32m    180\u001b[0m         safe_mode\u001b[39m=\u001b[39;49msafe_mode,\n\u001b[1;32m    181\u001b[0m     )\n\u001b[1;32m    182\u001b[0m \u001b[39mif\u001b[39;00m \u001b[39mstr\u001b[39m(filepath)\u001b[39m.\u001b[39mendswith((\u001b[39m\"\u001b[39m\u001b[39m.h5\u001b[39m\u001b[39m\"\u001b[39m, \u001b[39m\"\u001b[39m\u001b[39m.hdf5\u001b[39m\u001b[39m\"\u001b[39m)):\n\u001b[1;32m    183\u001b[0m     \u001b[39mreturn\u001b[39;00m legacy_h5_format\u001b[39m.\u001b[39mload_model_from_hdf5(filepath)\n",
      "File \u001b[0;32m/Library/Frameworks/Python.framework/Versions/3.10/lib/python3.10/site-packages/keras/src/saving/saving_lib.py:155\u001b[0m, in \u001b[0;36mload_model\u001b[0;34m(filepath, custom_objects, compile, safe_mode)\u001b[0m\n\u001b[1;32m    153\u001b[0m \u001b[39m# Construct the model from the configuration file in the archive.\u001b[39;00m\n\u001b[1;32m    154\u001b[0m \u001b[39mwith\u001b[39;00m ObjectSharingScope():\n\u001b[0;32m--> 155\u001b[0m     model \u001b[39m=\u001b[39m deserialize_keras_object(\n\u001b[1;32m    156\u001b[0m         config_dict, custom_objects, safe_mode\u001b[39m=\u001b[39;49msafe_mode\n\u001b[1;32m    157\u001b[0m     )\n\u001b[1;32m    159\u001b[0m all_filenames \u001b[39m=\u001b[39m zf\u001b[39m.\u001b[39mnamelist()\n\u001b[1;32m    160\u001b[0m \u001b[39mif\u001b[39;00m _VARS_FNAME \u001b[39m+\u001b[39m \u001b[39m\"\u001b[39m\u001b[39m.h5\u001b[39m\u001b[39m\"\u001b[39m \u001b[39min\u001b[39;00m all_filenames:\n",
      "File \u001b[0;32m/Library/Frameworks/Python.framework/Versions/3.10/lib/python3.10/site-packages/keras/src/saving/serialization_lib.py:713\u001b[0m, in \u001b[0;36mdeserialize_keras_object\u001b[0;34m(config, custom_objects, safe_mode, **kwargs)\u001b[0m\n\u001b[1;32m    711\u001b[0m     instance \u001b[39m=\u001b[39m \u001b[39mcls\u001b[39m\u001b[39m.\u001b[39mfrom_config(inner_config)\n\u001b[1;32m    712\u001b[0m \u001b[39mexcept\u001b[39;00m \u001b[39mTypeError\u001b[39;00m \u001b[39mas\u001b[39;00m e:\n\u001b[0;32m--> 713\u001b[0m     \u001b[39mraise\u001b[39;00m \u001b[39mTypeError\u001b[39;00m(\n\u001b[1;32m    714\u001b[0m         \u001b[39mf\u001b[39m\u001b[39m\"\u001b[39m\u001b[39m{\u001b[39;00m\u001b[39mcls\u001b[39m\u001b[39m}\u001b[39;00m\u001b[39m could not be deserialized properly. Please\u001b[39m\u001b[39m\"\u001b[39m\n\u001b[1;32m    715\u001b[0m         \u001b[39m\"\u001b[39m\u001b[39m ensure that components that are Python object\u001b[39m\u001b[39m\"\u001b[39m\n\u001b[1;32m    716\u001b[0m         \u001b[39m\"\u001b[39m\u001b[39m instances (layers, models, etc.) returned by\u001b[39m\u001b[39m\"\u001b[39m\n\u001b[1;32m    717\u001b[0m         \u001b[39m\"\u001b[39m\u001b[39m `get_config()` are explicitly deserialized in the\u001b[39m\u001b[39m\"\u001b[39m\n\u001b[1;32m    718\u001b[0m         \u001b[39m\"\u001b[39m\u001b[39m model\u001b[39m\u001b[39m'\u001b[39m\u001b[39ms `from_config()` method.\u001b[39m\u001b[39m\"\u001b[39m\n\u001b[1;32m    719\u001b[0m         \u001b[39mf\u001b[39m\u001b[39m\"\u001b[39m\u001b[39m\\n\u001b[39;00m\u001b[39m\\n\u001b[39;00m\u001b[39mconfig=\u001b[39m\u001b[39m{\u001b[39;00mconfig\u001b[39m}\u001b[39;00m\u001b[39m.\u001b[39m\u001b[39m\\n\u001b[39;00m\u001b[39m\\n\u001b[39;00m\u001b[39mException encountered: \u001b[39m\u001b[39m{\u001b[39;00me\u001b[39m}\u001b[39;00m\u001b[39m\"\u001b[39m\n\u001b[1;32m    720\u001b[0m     )\n\u001b[1;32m    721\u001b[0m build_config \u001b[39m=\u001b[39m config\u001b[39m.\u001b[39mget(\u001b[39m\"\u001b[39m\u001b[39mbuild_config\u001b[39m\u001b[39m\"\u001b[39m, \u001b[39mNone\u001b[39;00m)\n\u001b[1;32m    722\u001b[0m \u001b[39mif\u001b[39;00m build_config \u001b[39mand\u001b[39;00m \u001b[39mnot\u001b[39;00m instance\u001b[39m.\u001b[39mbuilt:\n",
      "\u001b[0;31mTypeError\u001b[0m: <class 'keras.src.models.functional.Functional'> could not be deserialized properly. Please ensure that components that are Python object instances (layers, models, etc.) returned by `get_config()` are explicitly deserialized in the model's `from_config()` method.\n\nconfig={'module': 'keras.src.models.functional', 'class_name': 'Functional', 'config': {'name': 'functional_1', 'trainable': False, 'layers': [{'module': 'keras.layers', 'class_name': 'InputLayer', 'config': {'batch_shape': [1, 3, 1], 'dtype': 'float32', 'sparse': False, 'name': 'input_layer'}, 'registered_name': None, 'name': 'input_layer', 'inbound_nodes': []}, {'module': 'layers.mathematics_layers', 'class_name': 'TFLog', 'config': {'name': 'tf_log', 'index': 0, 'trainable': False, 'dtype': 'float32'}, 'registered_name': 'TFLog', 'build_config': {'input_shape': [1, 3, 1]}, 'name': 'tf_log', 'inbound_nodes': [{'args': [{'class_name': '__keras_tensor__', 'config': {'shape': [1, 3, 1], 'dtype': 'float32', 'keras_history': ['input_layer', 0, 0]}}], 'kwargs': {}}]}, {'module': 'keras.layers', 'class_name': 'InputLayer', 'config': {'batch_shape': [1, 3, 1], 'dtype': 'float32', 'sparse': False, 'name': 'input_layer_1'}, 'registered_name': None, 'name': 'input_layer_1', 'inbound_nodes': []}, {'module': 'layers.mathematics_layers', 'class_name': 'TFAdd', 'config': {'name': 'tf_add', 'trainable': False, 'dtype': 'float32', 'tensor_grap': {'input': {'class_name': '__keras_tensor__', 'config': {'shape': [1, 3, 1], 'dtype': 'float32', 'keras_history': ['input_layer', 0, 0]}}, 'onnx::Add_1': {'class_name': '__keras_tensor__', 'config': {'shape': [1, 3, 1], 'dtype': 'float32', 'keras_history': ['input_layer_1', 0, 0]}}, '/Log_output_0': {'class_name': '__keras_tensor__', 'config': {'shape': [1, 3, 1], 'dtype': 'float32', 'keras_history': ['tf_log', 0, 0]}}}, 'node_weights': {}, 'node_inputs': ['/Log_output_0', 'onnx::Add_1']}, 'registered_name': 'TFAdd', 'build_config': {'input_shape': None}, 'name': 'tf_add', 'inbound_nodes': [{'args': [{'class_name': '__keras_tensor__', 'config': {'shape': [1, 3, 1], 'dtype': 'float32', 'keras_history': ['tf_log', 0, 0]}}], 'kwargs': {}}]}], 'input_layers': [['input_layer', 0, 0], ['input_layer_1', 0, 0]], 'output_layers': [['tf_add', 0, 0]]}, 'registered_name': 'Functional', 'build_config': {'input_shape': None}}.\n\nException encountered: <class '__main__.TFAdd'> could not be deserialized properly. Please ensure that components that are Python object instances (layers, models, etc.) returned by `get_config()` are explicitly deserialized in the model's `from_config()` method.\n\nconfig={'module': 'layers.mathematics_layers', 'class_name': 'TFAdd', 'config': {'name': 'tf_add', 'trainable': False, 'dtype': 'float32', 'tensor_grap': {'input': {'class_name': '__keras_tensor__', 'config': {'shape': [1, 3, 1], 'dtype': 'float32', 'keras_history': ['input_layer', 0, 0]}}, 'onnx::Add_1': {'class_name': '__keras_tensor__', 'config': {'shape': [1, 3, 1], 'dtype': 'float32', 'keras_history': ['input_layer_1', 0, 0]}}, '/Log_output_0': {'class_name': '__keras_tensor__', 'config': {'shape': [1, 3, 1], 'dtype': 'float32', 'keras_history': ['tf_log', 0, 0]}}}, 'node_weights': {}, 'node_inputs': ['/Log_output_0', 'onnx::Add_1']}, 'registered_name': 'TFAdd', 'build_config': {'input_shape': None}, 'name': 'tf_add', 'inbound_nodes': [{'args': [{'class_name': '__keras_tensor__', 'config': {'shape': [1, 3, 1], 'dtype': 'float32', 'keras_history': ['tf_log', 0, 0]}}], 'kwargs': {}}]}.\n\nException encountered: Error when deserializing class 'TFAdd' using config={'name': 'tf_add', 'trainable': False, 'dtype': 'float32', 'tensor_grap': {'input': {'class_name': '__keras_tensor__', 'config': {'shape': [1, 3, 1], 'dtype': 'float32', 'keras_history': ['input_layer', 0, 0]}}, 'onnx::Add_1': {'class_name': '__keras_tensor__', 'config': {'shape': [1, 3, 1], 'dtype': 'float32', 'keras_history': ['input_layer_1', 0, 0]}}, '/Log_output_0': {'class_name': '__keras_tensor__', 'config': {'shape': [1, 3, 1], 'dtype': 'float32', 'keras_history': ['tf_log', 0, 0]}}}, 'node_weights': {}, 'node_inputs': ['/Log_output_0', 'onnx::Add_1']}.\n\nException encountered: Can't convert Python sequence with mixed types to Tensor."
     ]
    }
   ],
   "source": [
    "@keras.saving.register_keras_serializable()\n",
    "class TFAdd(keras.layers.Layer):\n",
    "    def __init__(self, tensor_grap, node_weights, node_inputs, *args, **kwargs):\n",
    "        super().__init__()\n",
    "        self.tensor_grap = tensor_grap\n",
    "        self.node_weights = node_weights\n",
    "        self.node_inputs = node_inputs\n",
    "        # print('tensor grap: ', tensor_grap)\n",
    "        print('type grap: ', type(tensor_grap))\n",
    "        print('type weight: ', type(node_weights))\n",
    "        print('type inputs: ', type(node_inputs))\n",
    "        # print('node weight: ', node_weights)\n",
    "        self.first_operand = tensor_grap[node_inputs[0]] if node_inputs[0] in tensor_grap else node_weights[node_inputs[0]]\n",
    "        self.second_operand = tensor_grap[node_inputs[1]] if node_inputs[1] in tensor_grap else node_weights[node_inputs[1]]\n",
    "        self.first_operand, self.second_operand = match_tensor(self.first_operand, self.second_operand)\n",
    "        print(\"type first: \", type(self.first_operand))\n",
    "        print('second: ', self.second_operand)\n",
    "        print('asfas: ', tf.keras.backend.variable(self.second_operand['config']['keras_history']))\n",
    "\n",
    "    def call(self, *args, **kwargs):\n",
    "        print(\"first operand: \", self.first_operand)\n",
    "        print(\"second operand: \", self.second_operand)\n",
    "        return keras.Input(shape=self.first_operand['config']['shape'],\n",
    "                                             dtype=self.first_operand['config']['dtype'])+ keras.Input(shape=self.second_operand['config']['shape'],\n",
    "                                             dtype=self.second_operand['config']['dtype'])\n",
    "    def get_config(self):\n",
    "        config = super().get_config()\n",
    "        config.update({\n",
    "            \"tensor_grap\":self.tensor_grap,\n",
    "            'node_weights':self.node_weights,\n",
    "            'node_inputs':self.node_inputs\n",
    "        })\n",
    "        return config\n",
    "    \n",
    "class TFLog(keras.layers.Layer):\n",
    "    def __init__(self, *args, **kwargs):\n",
    "        super().__init__()\n",
    "    def call(self, inputs, *args, **kwargs):\n",
    "        return keras.ops.log(inputs)\n",
    "\n",
    "from keras import backend as K\n",
    "K.clear_session()\n",
    "keras.saving.get_custom_objects().clear()\n",
    "custom_objects = {\"TFAdd\": TFAdd, \"TFLog\":TFLog}\n",
    "with keras.saving.custom_object_scope(custom_objects):\n",
    "    model = load_model(\"add.keras\")\n",
    "    model.summary()\n",
    "\n"
   ]
  },
  {
   "cell_type": "code",
   "execution_count": 36,
   "metadata": {},
   "outputs": [
    {
     "name": "stdout",
     "output_type": "stream",
     "text": [
      "first operand:  {'class_name': '__keras_tensor__', 'config': {'shape': [1, 3, 1], 'dtype': 'float32', 'keras_history': ['tf_log', 0, 0]}}\n",
      "second operand:  {'class_name': '__keras_tensor__', 'config': {'shape': [1, 3, 1], 'dtype': 'float32', 'keras_history': ['input_layer_1', 0, 0]}}\n"
     ]
    },
    {
     "ename": "TypeError",
     "evalue": "To be compatible with tf.function, Python functions must return zero or more Tensors or ExtensionTypes or None values; in compilation of <function TensorFlowTrainer.make_predict_function.<locals>.one_step_on_data_distributed at 0x17fc29120>, found return value of type KerasTensor, which is not a Tensor or ExtensionType.",
     "output_type": "error",
     "traceback": [
      "\u001b[0;31m---------------------------------------------------------------------------\u001b[0m",
      "\u001b[0;31mTypeError\u001b[0m                                 Traceback (most recent call last)",
      "Cell \u001b[0;32mIn[36], line 4\u001b[0m\n\u001b[1;32m      2\u001b[0m input1 \u001b[39m=\u001b[39m torch\u001b[39m.\u001b[39mtensor([\u001b[39m10\u001b[39m, \u001b[39m40\u001b[39m, \u001b[39m50\u001b[39m], dtype \u001b[39m=\u001b[39m torch\u001b[39m.\u001b[39mfloat32)\u001b[39m.\u001b[39mreshape(\u001b[39m1\u001b[39m,\u001b[39m-\u001b[39m\u001b[39m1\u001b[39m,\u001b[39m1\u001b[39m)\n\u001b[1;32m      3\u001b[0m input2 \u001b[39m=\u001b[39m torch\u001b[39m.\u001b[39mtensor([\u001b[39m13\u001b[39m, \u001b[39m4\u001b[39m, \u001b[39m7\u001b[39m], dtype \u001b[39m=\u001b[39m torch\u001b[39m.\u001b[39mfloat32)\u001b[39m.\u001b[39mreshape(\u001b[39m1\u001b[39m,\u001b[39m-\u001b[39m\u001b[39m1\u001b[39m,\u001b[39m1\u001b[39m)\n\u001b[0;32m----> 4\u001b[0m model\u001b[39m.\u001b[39;49mpredict((input1, input2))\n",
      "File \u001b[0;32m/Library/Frameworks/Python.framework/Versions/3.10/lib/python3.10/site-packages/keras/src/utils/traceback_utils.py:122\u001b[0m, in \u001b[0;36mfilter_traceback.<locals>.error_handler\u001b[0;34m(*args, **kwargs)\u001b[0m\n\u001b[1;32m    119\u001b[0m     filtered_tb \u001b[39m=\u001b[39m _process_traceback_frames(e\u001b[39m.\u001b[39m__traceback__)\n\u001b[1;32m    120\u001b[0m     \u001b[39m# To get the full stack trace, call:\u001b[39;00m\n\u001b[1;32m    121\u001b[0m     \u001b[39m# `keras.config.disable_traceback_filtering()`\u001b[39;00m\n\u001b[0;32m--> 122\u001b[0m     \u001b[39mraise\u001b[39;00m e\u001b[39m.\u001b[39mwith_traceback(filtered_tb) \u001b[39mfrom\u001b[39;00m \u001b[39mNone\u001b[39;00m\n\u001b[1;32m    123\u001b[0m \u001b[39mfinally\u001b[39;00m:\n\u001b[1;32m    124\u001b[0m     \u001b[39mdel\u001b[39;00m filtered_tb\n",
      "File \u001b[0;32m/Library/Frameworks/Python.framework/Versions/3.10/lib/python3.10/site-packages/tensorflow/python/framework/func_graph.py:1048\u001b[0m, in \u001b[0;36mfunc_graph_from_py_func.<locals>.convert\u001b[0;34m(x)\u001b[0m\n\u001b[1;32m   1046\u001b[0m     x \u001b[39m=\u001b[39m ops\u001b[39m.\u001b[39mconvert_to_tensor_or_composite(x)\n\u001b[1;32m   1047\u001b[0m   \u001b[39mexcept\u001b[39;00m (\u001b[39mValueError\u001b[39;00m, \u001b[39mTypeError\u001b[39;00m):\n\u001b[0;32m-> 1048\u001b[0m     \u001b[39mraise\u001b[39;00m \u001b[39mTypeError\u001b[39;00m(\n\u001b[1;32m   1049\u001b[0m         \u001b[39m\"\u001b[39m\u001b[39mTo be compatible with tf.function, Python functions \u001b[39m\u001b[39m\"\u001b[39m\n\u001b[1;32m   1050\u001b[0m         \u001b[39m\"\u001b[39m\u001b[39mmust return zero or more Tensors or ExtensionTypes or None \u001b[39m\u001b[39m\"\u001b[39m\n\u001b[1;32m   1051\u001b[0m         \u001b[39mf\u001b[39m\u001b[39m\"\u001b[39m\u001b[39mvalues; in compilation of \u001b[39m\u001b[39m{\u001b[39;00m\u001b[39mstr\u001b[39m(python_func)\u001b[39m}\u001b[39;00m\u001b[39m, found return \u001b[39m\u001b[39m\"\u001b[39m\n\u001b[1;32m   1052\u001b[0m         \u001b[39mf\u001b[39m\u001b[39m\"\u001b[39m\u001b[39mvalue of type \u001b[39m\u001b[39m{\u001b[39;00m\u001b[39mtype\u001b[39m(x)\u001b[39m.\u001b[39m\u001b[39m__name__\u001b[39m\u001b[39m}\u001b[39;00m\u001b[39m, which is not a Tensor or \u001b[39m\u001b[39m\"\u001b[39m\n\u001b[1;32m   1053\u001b[0m         \u001b[39m\"\u001b[39m\u001b[39mExtensionType.\u001b[39m\u001b[39m\"\u001b[39m)\n\u001b[1;32m   1054\u001b[0m \u001b[39mif\u001b[39;00m add_control_dependencies:\n\u001b[1;32m   1055\u001b[0m   x \u001b[39m=\u001b[39m deps_ctx\u001b[39m.\u001b[39mmark_as_return(x)\n",
      "\u001b[0;31mTypeError\u001b[0m: To be compatible with tf.function, Python functions must return zero or more Tensors or ExtensionTypes or None values; in compilation of <function TensorFlowTrainer.make_predict_function.<locals>.one_step_on_data_distributed at 0x17fc29120>, found return value of type KerasTensor, which is not a Tensor or ExtensionType."
     ]
    }
   ],
   "source": [
    "import torch\n",
    "input1 = torch.tensor([10, 40, 50], dtype = torch.float32).reshape(1,-1,1)\n",
    "input2 = torch.tensor([13, 4, 7], dtype = torch.float32).reshape(1,-1,1)\n",
    "model.predict((input1, input2))"
   ]
  },
  {
   "cell_type": "code",
   "execution_count": null,
   "metadata": {},
   "outputs": [],
   "source": []
  }
 ],
 "metadata": {
  "kernelspec": {
   "display_name": "Python 3",
   "language": "python",
   "name": "python3"
  },
  "language_info": {
   "codemirror_mode": {
    "name": "ipython",
    "version": 3
   },
   "file_extension": ".py",
   "mimetype": "text/x-python",
   "name": "python",
   "nbconvert_exporter": "python",
   "pygments_lexer": "ipython3",
   "version": "3.10.0"
  },
  "orig_nbformat": 4
 },
 "nbformat": 4,
 "nbformat_minor": 2
}
