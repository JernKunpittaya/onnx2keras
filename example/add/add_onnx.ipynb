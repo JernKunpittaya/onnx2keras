{
 "cells": [
  {
   "cell_type": "code",
   "execution_count": 106,
   "metadata": {},
   "outputs": [],
   "source": [
    "import torch\n",
    "import torch.nn as nn\n",
    "import torch.nn.functional as F"
   ]
  },
  {
   "cell_type": "code",
   "execution_count": 272,
   "metadata": {},
   "outputs": [],
   "source": [
    "class MyModel(nn.Module):\n",
    "    def __init__(self):\n",
    "        super(MyModel, self).__init__() \n",
    "\n",
    "    def forward(self,x):\n",
    "        return [x.unsqueeze(-1)]\n",
    "        return torch.cat((x,y), dim = 1)\n",
    "        # return [x@y]\n",
    "        return [torch.ones_like(x)+torch.tensor(8)]\n",
    "\n",
    "        # return [x==40]\n",
    "        return [torch.logical_or(x>20, y<10)]\n",
    "        # return [x-torch.log(y)+5]\n",
    "        return [torch.where(x>20, 2, 1)]\n",
    "        return [x+torch.log(y)+z]"
   ]
  },
  {
   "cell_type": "code",
   "execution_count": 273,
   "metadata": {},
   "outputs": [
    {
     "name": "stdout",
     "output_type": "stream",
     "text": [
      "original:  tensor([[[10.],\n",
      "         [40.],\n",
      "         [50.]]])\n",
      "result:  [tensor([[[[10.]],\n",
      "\n",
      "         [[40.]],\n",
      "\n",
      "         [[50.]]]])]\n"
     ]
    }
   ],
   "source": [
    "model = MyModel()\n",
    "input1 = torch.tensor([10, 40, 50], dtype = torch.float32).reshape(1,-1,1)\n",
    "input2 = torch.tensor([13, 4, 7], dtype = torch.float32).reshape(1,-1,1)\n",
    "# input3 = torch.tensor([3, 14, 7], dtype = torch.float32).reshape(1,-1,1)\n",
    "x = torch.tensor([10, 40, 50], dtype = torch.float32).reshape(1,-1)\n",
    "y =torch.tensor([13, 4, 7], dtype = torch.float32).reshape(-1,1)\n",
    "print('original: ', input1)\n",
    "print('result: ', model.forward(input1))\n",
    "\n",
    "torch.onnx.export(model,               # model being run\n",
    "                      (input1) ,                  # model input (or a tuple for multiple inputs)\n",
    "                      './add.onnx',            # where to save the model (can be a file or file-like object)\n",
    "                      export_params=True,        # store the trained parameter weights inside the model file\n",
    "                      opset_version=11,          # the ONNX version to export the model to\n",
    "                      do_constant_folding=True,  # whether to execute constant folding for optimization\n",
    "                      input_names = ['input'],   # the model's input names\n",
    "                      output_names = ['output'], # the model's output names\n",
    "                      dynamic_axes={'input' : {0 : 'batch_size'},    # variable length axes\n",
    "                                    'output' : {0 : 'batch_size'}})\n"
   ]
  },
  {
   "attachments": {},
   "cell_type": "markdown",
   "metadata": {},
   "source": []
  },
  {
   "cell_type": "code",
   "execution_count": 231,
   "metadata": {},
   "outputs": [
    {
     "name": "stdout",
     "output_type": "stream",
     "text": [
      "tf.Tensor(3, shape=(), dtype=int32)\n"
     ]
    }
   ],
   "source": [
    "import keras\n",
    "print(keras.ops.array([1, 3, 1])[1])"
   ]
  },
  {
   "cell_type": "code",
   "execution_count": 233,
   "metadata": {},
   "outputs": [
    {
     "name": "stdout",
     "output_type": "stream",
     "text": [
      "tf.Tensor([1 3 1], shape=(3,), dtype=int64)\n"
     ]
    }
   ],
   "source": [
    "import numpy as np\n",
    "print(keras.ops.convert_to_tensor(np.array([1,3,1])))"
   ]
  },
  {
   "cell_type": "code",
   "execution_count": null,
   "metadata": {},
   "outputs": [],
   "source": []
  }
 ],
 "metadata": {
  "kernelspec": {
   "display_name": "Python 3",
   "language": "python",
   "name": "python3"
  },
  "language_info": {
   "codemirror_mode": {
    "name": "ipython",
    "version": 3
   },
   "file_extension": ".py",
   "mimetype": "text/x-python",
   "name": "python",
   "nbconvert_exporter": "python",
   "pygments_lexer": "ipython3",
   "version": "3.10.0"
  },
  "orig_nbformat": 4
 },
 "nbformat": 4,
 "nbformat_minor": 2
}
