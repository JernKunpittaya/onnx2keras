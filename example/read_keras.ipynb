{
 "cells": [
  {
   "cell_type": "code",
   "execution_count": 1,
   "metadata": {},
   "outputs": [],
   "source": [
    "from keras.models import load_model\n",
    "import keras\n",
    "import tensorflow as tf\n",
    "import numpy as np"
   ]
  },
  {
   "cell_type": "code",
   "execution_count": 7,
   "metadata": {},
   "outputs": [],
   "source": [
    "import sys\n",
    "sys.path.append('../')\n",
    "# import all layers we support\n",
    "from layers.mathematics_layers import TFAdd, TFSub, TFMul, TFDiv, TFEqual, TFLess, TFGreater,TFWhere, TFNot, TFAnd, TFOr, TFAbs, TFReciprocal, TFSqrt, TFExp, TFLog, TFFloor, TFCeil, TFReduceMax, TFReduceMin, TFReduceSum, TFReduceMean, TFShape, TFConstantOfShape, TFMatMul\n",
    "from layers.deformation_layers import  TFTranspose, TFGather,TFConcat, TFSplit,TFUnsqueeze, TFSqueeze\n",
    "from layers.common_layers import TFCast"
   ]
  },
  {
   "cell_type": "code",
   "execution_count": 8,
   "metadata": {},
   "outputs": [
    {
     "name": "stdout",
     "output_type": "stream",
     "text": [
      "gatherrrrs:  [{'class_name': '__keras_tensor__', 'config': {'shape': [1, 3, 1], 'dtype': 'float32', 'keras_history': ['input_layer', 0, 0]}}, {'class_name': '__keras_tensor__', 'config': {'shape': [None, None, None], 'dtype': 'float32', 'keras_history': ['tf_constant_of_shape', 0, 0]}}]\n",
      "inpuuutt size:  Tensor(\"Placeholder:0\", shape=(3,), dtype=int32)\n",
      "shapeyy const size:  (3,)\n",
      "Call gatherrrrs:  [{'class_name': '__keras_tensor__', 'config': {'shape': [1, 3, 1], 'dtype': 'float32', 'keras_history': ['input_layer', 0, 0]}}, {'class_name': '__keras_tensor__', 'config': {'shape': [None, None, None], 'dtype': 'float32', 'keras_history': ['tf_constant_of_shape', 0, 0]}}]\n"
     ]
    },
    {
     "data": {
      "text/html": [
       "<pre style=\"white-space:pre;overflow-x:auto;line-height:normal;font-family:Menlo,'DejaVu Sans Mono',consolas,'Courier New',monospace\"><span style=\"font-weight: bold\">Model: \"functional_1\"</span>\n",
       "</pre>\n"
      ],
      "text/plain": [
       "\u001b[1mModel: \"functional_1\"\u001b[0m\n"
      ]
     },
     "metadata": {},
     "output_type": "display_data"
    },
    {
     "data": {
      "text/html": [
       "<pre style=\"white-space:pre;overflow-x:auto;line-height:normal;font-family:Menlo,'DejaVu Sans Mono',consolas,'Courier New',monospace\">┏━━━━━━━━━━━━━━━━━━━━━┳━━━━━━━━━━━━━━━━━━━┳━━━━━━━━━━━━┳━━━━━━━━━━━━━━━━━━━┓\n",
       "┃<span style=\"font-weight: bold\"> Layer (type)        </span>┃<span style=\"font-weight: bold\"> Output Shape      </span>┃<span style=\"font-weight: bold\">    Param # </span>┃<span style=\"font-weight: bold\"> Connected to      </span>┃\n",
       "┡━━━━━━━━━━━━━━━━━━━━━╇━━━━━━━━━━━━━━━━━━━╇━━━━━━━━━━━━╇━━━━━━━━━━━━━━━━━━━┩\n",
       "│ input_layer         │ (<span style=\"color: #00af00; text-decoration-color: #00af00\">1</span>, <span style=\"color: #00af00; text-decoration-color: #00af00\">3</span>, <span style=\"color: #00af00; text-decoration-color: #00af00\">1</span>)         │          <span style=\"color: #00af00; text-decoration-color: #00af00\">0</span> │ -                 │\n",
       "│ (<span style=\"color: #0087ff; text-decoration-color: #0087ff\">InputLayer</span>)        │                   │            │                   │\n",
       "├─────────────────────┼───────────────────┼────────────┼───────────────────┤\n",
       "│ tf_shape (<span style=\"color: #0087ff; text-decoration-color: #0087ff\">TFShape</span>)  │ (<span style=\"color: #00af00; text-decoration-color: #00af00\">3</span>)               │          <span style=\"color: #00af00; text-decoration-color: #00af00\">0</span> │ input_layer[<span style=\"color: #00af00; text-decoration-color: #00af00\">0</span>][<span style=\"color: #00af00; text-decoration-color: #00af00\">0</span>] │\n",
       "├─────────────────────┼───────────────────┼────────────┼───────────────────┤\n",
       "│ tf_constant_of_sha… │ (<span style=\"color: #00d7ff; text-decoration-color: #00d7ff\">None</span>, <span style=\"color: #00d7ff; text-decoration-color: #00d7ff\">None</span>,      │          <span style=\"color: #00af00; text-decoration-color: #00af00\">0</span> │ tf_shape[<span style=\"color: #00af00; text-decoration-color: #00af00\">0</span>][<span style=\"color: #00af00; text-decoration-color: #00af00\">0</span>]    │\n",
       "│ (<span style=\"color: #0087ff; text-decoration-color: #0087ff\">TFConstantOfShape</span>) │ <span style=\"color: #00d7ff; text-decoration-color: #00d7ff\">None</span>)             │            │                   │\n",
       "├─────────────────────┼───────────────────┼────────────┼───────────────────┤\n",
       "│ tf_concat           │ (<span style=\"color: #00d7ff; text-decoration-color: #00d7ff\">None</span>, <span style=\"color: #00af00; text-decoration-color: #00af00\">3</span>, <span style=\"color: #00af00; text-decoration-color: #00af00\">1</span>)      │          <span style=\"color: #00af00; text-decoration-color: #00af00\">0</span> │ input_layer[<span style=\"color: #00af00; text-decoration-color: #00af00\">0</span>][<span style=\"color: #00af00; text-decoration-color: #00af00\">0</span>… │\n",
       "│ (<span style=\"color: #0087ff; text-decoration-color: #0087ff\">TFConcat</span>)          │                   │            │ tf_constant_of_s… │\n",
       "└─────────────────────┴───────────────────┴────────────┴───────────────────┘\n",
       "</pre>\n"
      ],
      "text/plain": [
       "┏━━━━━━━━━━━━━━━━━━━━━┳━━━━━━━━━━━━━━━━━━━┳━━━━━━━━━━━━┳━━━━━━━━━━━━━━━━━━━┓\n",
       "┃\u001b[1m \u001b[0m\u001b[1mLayer (type)       \u001b[0m\u001b[1m \u001b[0m┃\u001b[1m \u001b[0m\u001b[1mOutput Shape     \u001b[0m\u001b[1m \u001b[0m┃\u001b[1m \u001b[0m\u001b[1m   Param #\u001b[0m\u001b[1m \u001b[0m┃\u001b[1m \u001b[0m\u001b[1mConnected to     \u001b[0m\u001b[1m \u001b[0m┃\n",
       "┡━━━━━━━━━━━━━━━━━━━━━╇━━━━━━━━━━━━━━━━━━━╇━━━━━━━━━━━━╇━━━━━━━━━━━━━━━━━━━┩\n",
       "│ input_layer         │ (\u001b[38;5;34m1\u001b[0m, \u001b[38;5;34m3\u001b[0m, \u001b[38;5;34m1\u001b[0m)         │          \u001b[38;5;34m0\u001b[0m │ -                 │\n",
       "│ (\u001b[38;5;33mInputLayer\u001b[0m)        │                   │            │                   │\n",
       "├─────────────────────┼───────────────────┼────────────┼───────────────────┤\n",
       "│ tf_shape (\u001b[38;5;33mTFShape\u001b[0m)  │ (\u001b[38;5;34m3\u001b[0m)               │          \u001b[38;5;34m0\u001b[0m │ input_layer[\u001b[38;5;34m0\u001b[0m][\u001b[38;5;34m0\u001b[0m] │\n",
       "├─────────────────────┼───────────────────┼────────────┼───────────────────┤\n",
       "│ tf_constant_of_sha… │ (\u001b[38;5;45mNone\u001b[0m, \u001b[38;5;45mNone\u001b[0m,      │          \u001b[38;5;34m0\u001b[0m │ tf_shape[\u001b[38;5;34m0\u001b[0m][\u001b[38;5;34m0\u001b[0m]    │\n",
       "│ (\u001b[38;5;33mTFConstantOfShape\u001b[0m) │ \u001b[38;5;45mNone\u001b[0m)             │            │                   │\n",
       "├─────────────────────┼───────────────────┼────────────┼───────────────────┤\n",
       "│ tf_concat           │ (\u001b[38;5;45mNone\u001b[0m, \u001b[38;5;34m3\u001b[0m, \u001b[38;5;34m1\u001b[0m)      │          \u001b[38;5;34m0\u001b[0m │ input_layer[\u001b[38;5;34m0\u001b[0m][\u001b[38;5;34m0\u001b[0m… │\n",
       "│ (\u001b[38;5;33mTFConcat\u001b[0m)          │                   │            │ tf_constant_of_s… │\n",
       "└─────────────────────┴───────────────────┴────────────┴───────────────────┘\n"
      ]
     },
     "metadata": {},
     "output_type": "display_data"
    },
    {
     "data": {
      "text/html": [
       "<pre style=\"white-space:pre;overflow-x:auto;line-height:normal;font-family:Menlo,'DejaVu Sans Mono',consolas,'Courier New',monospace\"><span style=\"font-weight: bold\"> Total params: </span><span style=\"color: #00af00; text-decoration-color: #00af00\">0</span> (0.00 B)\n",
       "</pre>\n"
      ],
      "text/plain": [
       "\u001b[1m Total params: \u001b[0m\u001b[38;5;34m0\u001b[0m (0.00 B)\n"
      ]
     },
     "metadata": {},
     "output_type": "display_data"
    },
    {
     "data": {
      "text/html": [
       "<pre style=\"white-space:pre;overflow-x:auto;line-height:normal;font-family:Menlo,'DejaVu Sans Mono',consolas,'Courier New',monospace\"><span style=\"font-weight: bold\"> Trainable params: </span><span style=\"color: #00af00; text-decoration-color: #00af00\">0</span> (0.00 B)\n",
       "</pre>\n"
      ],
      "text/plain": [
       "\u001b[1m Trainable params: \u001b[0m\u001b[38;5;34m0\u001b[0m (0.00 B)\n"
      ]
     },
     "metadata": {},
     "output_type": "display_data"
    },
    {
     "data": {
      "text/html": [
       "<pre style=\"white-space:pre;overflow-x:auto;line-height:normal;font-family:Menlo,'DejaVu Sans Mono',consolas,'Courier New',monospace\"><span style=\"font-weight: bold\"> Non-trainable params: </span><span style=\"color: #00af00; text-decoration-color: #00af00\">0</span> (0.00 B)\n",
       "</pre>\n"
      ],
      "text/plain": [
       "\u001b[1m Non-trainable params: \u001b[0m\u001b[38;5;34m0\u001b[0m (0.00 B)\n"
      ]
     },
     "metadata": {},
     "output_type": "display_data"
    },
    {
     "name": "stdout",
     "output_type": "stream",
     "text": [
      "All Layer: \n",
      "\n",
      "<InputLayer name=input_layer, built=True>\n",
      "{'batch_shape': (1, 3, 1), 'dtype': 'float32', 'sparse': False, 'name': 'input_layer'}\n",
      "<TFShape name=tf_shape, built=True>\n",
      "{'name': 'tf_shape', 'index': 0, 'trainable': True, 'dtype': 'float32'}\n",
      "<TFConstantOfShape name=tf_constant_of_shape, built=True>\n",
      "{'name': 'tf_constant_of_shape', 'trainable': True, 'dtype': 'float32', 'tensor_grap': {'input': {'class_name': '__keras_tensor__', 'config': {'shape': [1, 3, 1], 'dtype': 'float32', 'keras_history': ['input_layer', 0, 0]}}, '/Shape_output_0': {'class_name': '__keras_tensor__', 'config': {'shape': [3], 'dtype': 'int32', 'keras_history': ['tf_shape', 0, 0]}}}, 'node_weights': {}, 'node_inputs': ['/Shape_output_0'], 'node_attribute': {'value': {'class_name': '__numpy__', 'config': {'value': [1.0], 'dtype': 'float32'}}}, 'value': {'class_name': '__numpy__', 'config': {'value': [1.0], 'dtype': 'float32'}}}\n",
      "<TFConcat name=tf_concat, built=True>\n",
      "{'name': 'tf_concat', 'trainable': True, 'dtype': 'float32', 'tensor_grap': {'input': {'class_name': '__keras_tensor__', 'config': {'shape': [1, 3, 1], 'dtype': 'float32', 'keras_history': ['input_layer', 0, 0]}}, '/Shape_output_0': {'class_name': '__keras_tensor__', 'config': {'shape': [3], 'dtype': 'int32', 'keras_history': ['tf_shape', 0, 0]}}, '/ConstantOfShape_output_0': {'class_name': '__keras_tensor__', 'config': {'shape': [None, None, None], 'dtype': 'float32', 'keras_history': ['tf_constant_of_shape', 0, 0]}}}, 'node_weights': {}, 'node_inputs': ['input', '/ConstantOfShape_output_0'], 'node_attribute': {'axis': 0}, 'axis': 0, 'gather': [{'class_name': '__keras_tensor__', 'config': {'shape': [1, 3, 1], 'dtype': 'float32', 'keras_history': ['input_layer', 0, 0]}}, {'class_name': '__keras_tensor__', 'config': {'shape': [None, None, None], 'dtype': 'float32', 'keras_history': ['tf_constant_of_shape', 0, 0]}}]}\n"
     ]
    }
   ],
   "source": [
    "# @keras.saving.register_keras_serializable()\n",
    "\n",
    "from keras import backend as K\n",
    "K.clear_session()\n",
    "keras.saving.get_custom_objects().clear()\n",
    "custom_objects = {\"TFAdd\":TFAdd,\"TFSub\": TFSub,\"TFMul\": TFMul,\"TFDiv\": TFDiv,\"TFEqual\": TFEqual,\"TFLess\": TFLess,\"TFGreater\": TFGreater,\"TFWhere\":TFWhere, \"TFNot\":TFNot, \"TFAnd\":TFAnd,\"TFOr\": TFOr,\"TFAbs\": TFAbs, \"TFReciprocal\":TFReciprocal,\"TFSqrt\": TFSqrt,\"TFExp\": TFExp,\"TFLog\": TFLog,\"TFFloor\": TFFloor,\"TFCeil\": TFCeil,\"TFReduceMax\": TFReduceMax, \"TFReduceMin\":TFReduceMin,\"TFReduceSum\": TFReduceSum,\"TFReduceMean\": TFReduceMean,\"TFShape\": TFShape,\"TFConstantOfShape\": TFConstantOfShape,\"TFMatMul\": TFMatMul,\"TFTranspose\": TFTranspose,\"TFGather\": TFGather,\"TFConcat\":TFConcat,\"TFSplit\": TFSplit,\"TFUnsqueeze\":TFUnsqueeze,\"TFSqueeze\":TFSqueeze, \"TFCast\":TFCast}\n",
    "\n",
    "\n",
    "with keras.saving.custom_object_scope(custom_objects):\n",
    "    model = load_model(\"example.keras\")\n",
    "    model.summary()\n",
    "    print(\"All Layer: \\n\")\n",
    "    for layer in model.layers:\n",
    "        # print layer\n",
    "        print(layer)\n",
    "        # print detailed config of each layer\n",
    "        print(layer.get_config())\n",
    "\n"
   ]
  },
  {
   "cell_type": "code",
   "execution_count": 9,
   "metadata": {},
   "outputs": [
    {
     "name": "stdout",
     "output_type": "stream",
     "text": [
      "x:  tensor([[[10.],\n",
      "         [40.],\n",
      "         [50.]]])\n",
      "y:  tensor([[[13.],\n",
      "         [ 4.],\n",
      "         [ 7.]]])\n",
      "inpuuutt size:  Tensor(\"functional_1_1/tf_shape_1/Const:0\", shape=(3,), dtype=int32)\n",
      "shapeyy const size:  (3,)\n",
      "Call gatherrrrs:  [{'class_name': '__keras_tensor__', 'config': {'shape': [1, 3, 1], 'dtype': 'float32', 'keras_history': ['input_layer', 0, 0]}}, {'class_name': '__keras_tensor__', 'config': {'shape': [None, None, None], 'dtype': 'float32', 'keras_history': ['tf_constant_of_shape', 0, 0]}}]\n",
      "\u001b[1m1/1\u001b[0m \u001b[32m━━━━━━━━━━━━━━━━━━━━\u001b[0m\u001b[37m\u001b[0m \u001b[1m0s\u001b[0m 25ms/step\n"
     ]
    },
    {
     "data": {
      "text/plain": [
       "array([[[10.],\n",
       "        [40.],\n",
       "        [50.]],\n",
       "\n",
       "       [[ 1.],\n",
       "        [ 1.],\n",
       "        [ 1.]]], dtype=float32)"
      ]
     },
     "execution_count": 9,
     "metadata": {},
     "output_type": "execute_result"
    }
   ],
   "source": [
    "# To make sure still get the sam result as onnx.\n",
    "import torch\n",
    "input1 = torch.tensor([10, 40, 50], dtype = torch.float32).reshape(1,-1,1)\n",
    "input2 = torch.tensor([13, 4, 7], dtype = torch.float32).reshape(1,-1,1)\n",
    "# input3 = torch.tensor([3, 14, 7], dtype = torch.float32).reshape(1,-1,1)\n",
    "x = torch.tensor([10, 40, 50], dtype = torch.float32).reshape(1,-1,1)\n",
    "y =torch.tensor([13, 4, 7], dtype = torch.float32).reshape(1,-1,1)\n",
    "print(\"x: \", x)\n",
    "print(\"y: \", y)\n",
    "# print('new y: ', np.expand_dims(y, axis=1))\n",
    "# print('actual: ', x@y)\n",
    "# model.forward(x,y)\n",
    "model.predict((x))"
   ]
  },
  {
   "cell_type": "code",
   "execution_count": null,
   "metadata": {},
   "outputs": [],
   "source": []
  }
 ],
 "metadata": {
  "kernelspec": {
   "display_name": "Python 3",
   "language": "python",
   "name": "python3"
  },
  "language_info": {
   "codemirror_mode": {
    "name": "ipython",
    "version": 3
   },
   "file_extension": ".py",
   "mimetype": "text/x-python",
   "name": "python",
   "nbconvert_exporter": "python",
   "pygments_lexer": "ipython3",
   "version": "3.10.0"
  },
  "orig_nbformat": 4
 },
 "nbformat": 4,
 "nbformat_minor": 2
}
